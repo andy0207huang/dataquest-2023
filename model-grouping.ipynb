{
 "cells": [
  {
   "cell_type": "code",
   "execution_count": null,
   "metadata": {},
   "outputs": [],
   "source": []
  },
  {
   "cell_type": "code",
   "execution_count": null,
   "metadata": {},
   "outputs": [],
   "source": [
    "data['MealPlan'] = pd.factorize(data.MealPlan)[0]\n",
    "data['RoomType'] = pd.factorize(data.RoomType)[0]\n",
    "data['MarketSegment'] = pd.factorize(data.MarketSegment)[0]\n",
    "data['BookingStatus'] = pd.factorize(data.BookingStatus)[0]\n",
    "\n",
    "dataT['MealPlan'] = pd.factorize(dataT.MealPlan)[0]\n",
    "dataT['RoomType'] = pd.factorize(dataT.RoomType)[0]\n",
    "dataT['MarketSegment'] = pd.factorize(dataT.MarketSegment)[0]\n",
    "dataT['BookingStatus'] = pd.factorize(dataT.BookingStatus)[0]\n",
    "\n",
    "data"
   ]
  }
 ],
 "metadata": {
  "language_info": {
   "name": "python"
  },
  "orig_nbformat": 4
 },
 "nbformat": 4,
 "nbformat_minor": 2
}
