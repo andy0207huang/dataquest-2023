{
 "cells": [
  {
   "cell_type": "code",
   "execution_count": null,
   "metadata": {
    "vscode": {
     "languageId": "plaintext"
    }
   },
   "outputs": [],
   "source": [
    "features = ['LeadTime', 'ArrivalYear', 'ArrivalMonth', 'ArrivalDate', 'NumWeekendNights', \n",
    "            'NumWeekNights', 'MealPlan', 'Parking', 'RoomType', 'NumAdults', 'NumChildren', \n",
    "            'MarketSegment', 'RepeatedGuest', 'NumPrevCancellations', 'NumPreviousNonCancelled', \n",
    "            'AvgRoomPrice', 'SpecialRequests']\n",
    "target = 'BookingStatus'"
   ]
  },
  {
   "cell_type": "code",
   "execution_count": null,
   "metadata": {
    "vscode": {
     "languageId": "plaintext"
    }
   },
   "outputs": [],
   "source": [
    "# import libraries\n",
    "import tensorflow as tf\n",
    "import numpy as np\n",
    "import matplotlib.pyplot as plt\n",
    "import pandas as pd\n",
    "\n",
    "from sklearn.model_selection import train_test_split\n",
    "\n",
    "print(tf.__version__)"
   ]
  },
  {
   "cell_type": "code",
   "execution_count": null,
   "metadata": {
    "vscode": {
     "languageId": "plaintext"
    }
   },
   "outputs": [],
   "source": [
    "data = pd.read_csv('train_data.csv')\n",
    "dataT = pd.read_csv('test_data.csv')\n",
    "\n",
    "data.info()"
   ]
  },
  {
   "cell_type": "code",
   "execution_count": null,
   "metadata": {
    "vscode": {
     "languageId": "plaintext"
    }
   },
   "outputs": [],
   "source": [
    "springMonths = [3,4,5], \n",
    "summerMonths = [6,7,8],\n",
    "fallMonths = [9,10,11],\n",
    "winterMonths = [12, 1, 2]\n",
    "\n",
    "data[\"Seasons\"] = data[\"ArrivalMonth\"].replace(springMonths, 13)\n",
    "data[\"Seasons\"] = data[\"Seasons\"].replace(summerMonths, 14)\n",
    "data[\"Seasons\"] = data[\"Seasons\"].replace(fallMonths, 15)\n",
    "data[\"Seasons\"] = data[\"Seasons\"].replace(winterMonths, 16)\n",
    "\n",
    "seasons = data.groupby(data[\"Seasons\"])[\"BookingID\"].count()\n",
    "\n",
    "\n",
    "\n",
    "seasons.head(10)"
   ]
  }
 ],
 "metadata": {
  "language_info": {
   "name": "python"
  },
  "orig_nbformat": 4
 },
 "nbformat": 4,
 "nbformat_minor": 2
}
